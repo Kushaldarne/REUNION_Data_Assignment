{
 "cells": [
  {
   "cell_type": "code",
   "execution_count": 1,
   "metadata": {},
   "outputs": [],
   "source": [
    "import sqlite3\n",
    "import pandas as pd\n",
    "\n",
    "# Create a connection\n",
    "conn = sqlite3.connect('orchestra.db')\n",
    "\n",
    "# Create a cursor\n",
    "cursor = conn.cursor()\n",
    "\n",
    "# Create a table\n",
    "cursor.execute('''\n",
    "CREATE TABLE Composers (\n",
    "    composer_id INTEGER PRIMARY KEY,\n",
    "    name TEXT\n",
    ");\n",
    "'''\n",
    ")\n",
    "\n",
    "# Insert values\n",
    "with open('concerts.csv', 'r') as f:\n",
    "    df = pd.read_csv(f)\n",
    "    df.to_sql('Concerts', conn, if_exists='append', index=False)\n",
    "\n",
    "conn.commit()"
   ]
  },
  {
   "cell_type": "code",
   "execution_count": 2,
   "metadata": {},
   "outputs": [],
   "source": [
    "# Create a database connection\n",
    "conn = sqlite3.connect('orchestra.db')\n",
    "cursor = conn.cursor()\n",
    "\n",
    "# Get orders in dataframe\n",
    "cursor.execute(\"SELECT * FROM Concerts;\")\n",
    "orders = cursor.fetchall()\n",
    "concerts_df = pd.DataFrame(orders, columns=[column[0] for column in cursor.description])"
   ]
  },
  {
   "cell_type": "code",
   "execution_count": 3,
   "metadata": {},
   "outputs": [
    {
     "data": {
      "text/html": [
       "<div>\n",
       "<style scoped>\n",
       "    .dataframe tbody tr th:only-of-type {\n",
       "        vertical-align: middle;\n",
       "    }\n",
       "\n",
       "    .dataframe tbody tr th {\n",
       "        vertical-align: top;\n",
       "    }\n",
       "\n",
       "    .dataframe thead th {\n",
       "        text-align: right;\n",
       "    }\n",
       "</style>\n",
       "<table border=\"1\" class=\"dataframe\">\n",
       "  <thead>\n",
       "    <tr style=\"text-align: right;\">\n",
       "      <th></th>\n",
       "      <th>Date</th>\n",
       "      <th>Venue</th>\n",
       "      <th>Location</th>\n",
       "      <th>Time</th>\n",
       "      <th>event_type</th>\n",
       "      <th>orchestra_id</th>\n",
       "    </tr>\n",
       "  </thead>\n",
       "  <tbody>\n",
       "    <tr>\n",
       "      <th>0</th>\n",
       "      <td>1842-12-07T05:00:00Z</td>\n",
       "      <td>Apollo Rooms</td>\n",
       "      <td>Manhattan, NY</td>\n",
       "      <td>8:00PM</td>\n",
       "      <td>None</td>\n",
       "      <td>1</td>\n",
       "    </tr>\n",
       "    <tr>\n",
       "      <th>1</th>\n",
       "      <td>1843-02-18T05:00:00Z</td>\n",
       "      <td>Apollo Rooms</td>\n",
       "      <td>Manhattan, NY</td>\n",
       "      <td>8:00PM</td>\n",
       "      <td>None</td>\n",
       "      <td>2</td>\n",
       "    </tr>\n",
       "    <tr>\n",
       "      <th>2</th>\n",
       "      <td>1843-04-07T05:00:00Z</td>\n",
       "      <td>Apollo Rooms</td>\n",
       "      <td>Manhattan, NY</td>\n",
       "      <td>8:00PM</td>\n",
       "      <td>None</td>\n",
       "      <td>3</td>\n",
       "    </tr>\n",
       "    <tr>\n",
       "      <th>3</th>\n",
       "      <td>1843-04-22T05:00:00Z</td>\n",
       "      <td>Apollo Rooms</td>\n",
       "      <td>Manhattan, NY</td>\n",
       "      <td>8:00PM</td>\n",
       "      <td>None</td>\n",
       "      <td>4</td>\n",
       "    </tr>\n",
       "    <tr>\n",
       "      <th>4</th>\n",
       "      <td>1843-11-18T05:00:00Z</td>\n",
       "      <td>Apollo Rooms</td>\n",
       "      <td>Manhattan, NY</td>\n",
       "      <td>None</td>\n",
       "      <td>None</td>\n",
       "      <td>5</td>\n",
       "    </tr>\n",
       "  </tbody>\n",
       "</table>\n",
       "</div>"
      ],
      "text/plain": [
       "                   Date         Venue       Location    Time event_type  \\\n",
       "0  1842-12-07T05:00:00Z  Apollo Rooms  Manhattan, NY  8:00PM       None   \n",
       "1  1843-02-18T05:00:00Z  Apollo Rooms  Manhattan, NY  8:00PM       None   \n",
       "2  1843-04-07T05:00:00Z  Apollo Rooms  Manhattan, NY  8:00PM       None   \n",
       "3  1843-04-22T05:00:00Z  Apollo Rooms  Manhattan, NY  8:00PM       None   \n",
       "4  1843-11-18T05:00:00Z  Apollo Rooms  Manhattan, NY    None       None   \n",
       "\n",
       "   orchestra_id  \n",
       "0             1  \n",
       "1             2  \n",
       "2             3  \n",
       "3             4  \n",
       "4             5  "
      ]
     },
     "execution_count": 3,
     "metadata": {},
     "output_type": "execute_result"
    }
   ],
   "source": [
    "concerts_df.head()"
   ]
  },
  {
   "cell_type": "code",
   "execution_count": 4,
   "metadata": {},
   "outputs": [],
   "source": [
    "conn.close()"
   ]
  }
 ],
 "metadata": {
  "kernelspec": {
   "display_name": "Python 3",
   "language": "python",
   "name": "python3"
  },
  "language_info": {
   "codemirror_mode": {
    "name": "ipython",
    "version": 3
   },
   "file_extension": ".py",
   "mimetype": "text/x-python",
   "name": "python",
   "nbconvert_exporter": "python",
   "pygments_lexer": "ipython3",
   "version": "3.12.3"
  }
 },
 "nbformat": 4,
 "nbformat_minor": 2
}
