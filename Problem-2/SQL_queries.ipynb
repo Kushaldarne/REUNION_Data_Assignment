{
 "cells": [
  {
   "cell_type": "code",
   "execution_count": 28,
   "metadata": {},
   "outputs": [],
   "source": [
    "import sqlite3\n",
    "\n",
    "# Connect to the database\n",
    "conn = sqlite3.connect('ecommerce.db')\n"
   ]
  },
  {
   "cell_type": "code",
   "execution_count": 29,
   "metadata": {},
   "outputs": [
    {
     "name": "stdout",
     "output_type": "stream",
     "text": [
      "[(9, 'Grace Harris', 641.9100000000001), (6, 'Diana Evans', 556.6700000000001), (4, 'Bob Brown', 485.41), (7, 'Eve Foster', 413.3533333333334), (1, 'John Doe', 266.29333333333335)]\n"
     ]
    }
   ],
   "source": [
    "\n",
    "# 1. Retrieve the top 5 customers who have made the highest average order amounts in the last 6 months. The average order amount should be calculated for each customer, and the result should be sorted in descending order.\n",
    "\n",
    "cursor = conn.cursor()\n",
    "cursor.execute('''\n",
    "    SELECT Customer.CustomerID, Customer.Name, AVG(\"Order\".OrderAmount) AS average_order_amount\n",
    "    FROM Customer\n",
    "    JOIN \"Order\" ON Customer.CustomerID = \"Order\".CustomerID\n",
    "    WHERE \"Order\".OrderDate >= DATE('now', '-6 months')\n",
    "    GROUP BY Customer.CustomerID, Customer.Name\n",
    "    ORDER BY average_order_amount DESC\n",
    "    LIMIT 5;\n",
    "    ''')\n",
    "\n",
    "query = cursor.fetchall()\n",
    "print(query)"
   ]
  },
  {
   "cell_type": "code",
   "execution_count": 30,
   "metadata": {},
   "outputs": [
    {
     "name": "stdout",
     "output_type": "stream",
     "text": [
      "[(2, 'Jane Smith', 0, 652.52), (3, 'Alice Johnson', 0, 1281.46), (5, 'Charlie Davis', 213.57, 1067.75), (8, 'Frank Green', 0, 762.3500000000001), (9, 'Grace Harris', 641.9100000000001, 789.18)]\n"
     ]
    }
   ],
   "source": [
    "# 2. Retrieve the list of customer whose order value is lower this year as compared to previous year\n",
    "\n",
    "cursor = conn.cursor()\n",
    "cursor.execute('''\n",
    "    SELECT c.CustomerID, c.Name, \n",
    "       COALESCE(CurrentYear.CurrentYearTotal, 0) AS CurrentYearTotal, \n",
    "       COALESCE(PreviousYear.PreviousYearTotal, 0) AS PreviousYearTotal\n",
    "    FROM customer c\n",
    "    LEFT JOIN (\n",
    "        SELECT o.CustomerID, SUM(o.OrderAmount) AS CurrentYearTotal\n",
    "        FROM \"Order\" o\n",
    "        WHERE strftime('%Y', o.OrderDate) = strftime('%Y', 'now')\n",
    "        GROUP BY o.CustomerID\n",
    "    ) AS CurrentYear ON c.CustomerID = CurrentYear.CustomerID\n",
    "    LEFT JOIN (\n",
    "        SELECT o.CustomerID, SUM(o.OrderAmount) AS PreviousYearTotal\n",
    "        FROM \"Order\" o\n",
    "        WHERE strftime('%Y', o.OrderDate) = strftime('%Y', 'now', '-1 year')\n",
    "        GROUP BY o.CustomerID\n",
    "    ) AS PreviousYear ON c.CustomerID = PreviousYear.CustomerID\n",
    "    WHERE COALESCE(CurrentYear.CurrentYearTotal, 0) < COALESCE(PreviousYear.PreviousYearTotal, 0);\n",
    "    ''')\n",
    "\n",
    "query = cursor.fetchall()\n",
    "print(query)"
   ]
  },
  {
   "cell_type": "code",
   "execution_count": 31,
   "metadata": {},
   "outputs": [
    {
     "name": "stdout",
     "output_type": "stream",
     "text": [
      "[(1, 'John Doe', 'Clothing', 419.13), (1, 'John Doe', 'Electronics', 581.56), (1, 'John Doe', 'Groceries', 98.44), (2, 'Jane Smith', 'Clothing', 301.09000000000003), (2, 'Jane Smith', 'Electronics', 320.8), (2, 'Jane Smith', 'Groceries', 30.630000000000003), (3, 'Alice Johnson', 'Clothing', 924.12), (3, 'Alice Johnson', 'Electronics', 482.35), (3, 'Alice Johnson', 'Groceries', 129.07), (4, 'Bob Brown', 'Clothing', 512.03), (4, 'Bob Brown', 'Electronics', 586.98), (4, 'Bob Brown', 'Groceries', 60.040000000000006), (5, 'Charlie Davis', 'Clothing', 302.42), (5, 'Charlie Davis', 'Electronics', 860.04), (5, 'Charlie Davis', 'Groceries', 118.86000000000001), (6, 'Diana Evans', 'Clothing', 475.98), (6, 'Diana Evans', 'Electronics', 725.64), (6, 'Diana Evans', 'Groceries', 29.41), (7, 'Eve Foster', 'Clothing', 1172.38), (7, 'Eve Foster', 'Electronics', 270.91), (7, 'Eve Foster', 'Groceries', 227.51000000000002), (8, 'Frank Green', 'Clothing', 826.7800000000001), (8, 'Frank Green', 'Electronics', 452.01), (8, 'Frank Green', 'Groceries', 117.64), (9, 'Grace Harris', 'Clothing', 373.1), (9, 'Grace Harris', 'Electronics', 1050.62), (9, 'Grace Harris', 'Groceries', 147.05), (10, 'Hank Irving', 'Clothing', 744.52), (10, 'Hank Irving', 'Electronics', 324.09000000000003), (10, 'Hank Irving', 'Groceries', 70.25)]\n"
     ]
    }
   ],
   "source": [
    "# 3. Create a table showing cumulative purchase by a particular customer. Show the breakup of cumulative purchases by product category\n",
    "\n",
    "cursor = conn.cursor()\n",
    "cursor.execute('''\n",
    "    SELECT \n",
    "        c.CustomerID, \n",
    "        c.Name, \n",
    "        p.Category, \n",
    "        SUM(oi.Quantity * oi.PriceAtPurchase) AS TotalPurchase\n",
    "    FROM \n",
    "        Customer c\n",
    "    JOIN \n",
    "        \"Order\" o ON c.CustomerID = o.CustomerID\n",
    "    JOIN \n",
    "        OrderItem oi ON o.OrderID = oi.OrderID\n",
    "    JOIN \n",
    "        Variant v ON oi.VariantID = v.VariantID\n",
    "    JOIN \n",
    "        Product p ON v.ProductID = p.ProductID\n",
    "    GROUP BY \n",
    "        c.CustomerID, \n",
    "        c.Name, \n",
    "        p.Category\n",
    "    ORDER BY \n",
    "        c.CustomerID, \n",
    "        p.Category;\n",
    "    ''')\n",
    "\n",
    "query = cursor.fetchall()\n",
    "print(query)"
   ]
  },
  {
   "cell_type": "code",
   "execution_count": 32,
   "metadata": {},
   "outputs": [
    {
     "name": "stdout",
     "output_type": "stream",
     "text": [
      "[('Phone', 'Smartphone', 40), ('Jeans', 'Blue Jeans', 39), ('Headphones', 'Wired Headphones', 33), ('Jacket', 'Leather Jacket', 33), ('Milk', 'Whole Milk', 27)]\n"
     ]
    }
   ],
   "source": [
    "# 4. Retrieve the list of top 5 selling products. Further bifurcate the sales by product variants\n",
    "\n",
    "conn = sqlite3.connect('ecommerce.db')\n",
    "cursor = conn.cursor()\n",
    "\n",
    "cursor.execute('''\n",
    "    SELECT \n",
    "        p.Name AS ProductName , \n",
    "        v.Name AS VariantName, \n",
    "        SUM(oi.Quantity) AS TotalQuantitySold\n",
    "    FROM \n",
    "        OrderItem oi\n",
    "    JOIN \n",
    "        Variant v ON oi.VariantID = v.VariantID\n",
    "    JOIN \n",
    "        Product p ON v.ProductID = p.ProductID\n",
    "    GROUP BY \n",
    "        p.Name, \n",
    "        v.Name\n",
    "    ORDER BY \n",
    "        SUM(oi.Quantity) DESC\n",
    "    LIMIT 5;\n",
    "    ''')\n",
    "\n",
    "query = cursor.fetchall()\n",
    "print(query)"
   ]
  },
  {
   "cell_type": "code",
   "execution_count": 33,
   "metadata": {},
   "outputs": [],
   "source": [
    "conn.close()"
   ]
  }
 ],
 "metadata": {
  "kernelspec": {
   "display_name": "Python 3",
   "language": "python",
   "name": "python3"
  },
  "language_info": {
   "codemirror_mode": {
    "name": "ipython",
    "version": 3
   },
   "file_extension": ".py",
   "mimetype": "text/x-python",
   "name": "python",
   "nbconvert_exporter": "python",
   "pygments_lexer": "ipython3",
   "version": "3.12.3"
  }
 },
 "nbformat": 4,
 "nbformat_minor": 2
}
